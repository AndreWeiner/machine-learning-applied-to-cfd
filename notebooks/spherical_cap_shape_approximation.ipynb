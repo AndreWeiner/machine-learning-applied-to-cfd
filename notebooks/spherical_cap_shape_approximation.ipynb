{
 "cells": [
  {
   "cell_type": "markdown",
   "metadata": {},
   "source": [
    "# Shape approximation of a spherical-cap bubble\n",
    "\n",
    "## Outline\n",
    "\n",
    "1. [Starting point](#starting_point)\n",
    "2. [Volume-of-fluid data and parameterization](#vof_data)\n",
    "3. [Direct approximation of the radius](#direct_approximation)\n",
    "4. [Using prior/domain knowledge](#prior_knowledge)\n",
    "    1. [Re-scaling the data](#rescaling)\n",
    "    2. [Adding artificial data](#artificial_data)\n",
    "5. [Final notes](#final_notes)\n",
    "\n",
    "## Starting point<a id=\"starting_point\"></a>\n",
    "\n"
   ]
  },
  {
   "cell_type": "code",
   "execution_count": null,
   "metadata": {},
   "outputs": [],
   "source": []
  },
  {
   "cell_type": "markdown",
   "metadata": {},
   "source": [
    "## Volume-of-fluid data and parameterization<a id=\"vof_data\"></a>"
   ]
  },
  {
   "cell_type": "code",
   "execution_count": null,
   "metadata": {},
   "outputs": [],
   "source": []
  },
  {
   "cell_type": "markdown",
   "metadata": {},
   "source": [
    "## Direkt approximation of the radius<a id=\"direct_approximation\"></a>"
   ]
  },
  {
   "cell_type": "code",
   "execution_count": null,
   "metadata": {},
   "outputs": [],
   "source": []
  },
  {
   "cell_type": "markdown",
   "metadata": {},
   "source": [
    "## Using prior/domain knowledge<a id=\"prior_knowledge\"></a>\n",
    "\n",
    "### Re-scaling the data<a id=\"rescaling\"></a>"
   ]
  },
  {
   "cell_type": "code",
   "execution_count": null,
   "metadata": {},
   "outputs": [],
   "source": []
  },
  {
   "cell_type": "markdown",
   "metadata": {},
   "source": [
    "### Adding artificial data<a id=\"artificial_data\"></a>"
   ]
  },
  {
   "cell_type": "code",
   "execution_count": null,
   "metadata": {},
   "outputs": [],
   "source": []
  },
  {
   "cell_type": "markdown",
   "metadata": {},
   "source": [
    "## Final notes<a id=\"final_notes\"></a>"
   ]
  },
  {
   "cell_type": "code",
   "execution_count": null,
   "metadata": {},
   "outputs": [],
   "source": []
  }
 ],
 "metadata": {
  "kernelspec": {
   "display_name": "Python 3",
   "language": "python",
   "name": "python3"
  },
  "language_info": {
   "codemirror_mode": {
    "name": "ipython",
    "version": 3
   },
   "file_extension": ".py",
   "mimetype": "text/x-python",
   "name": "python",
   "nbconvert_exporter": "python",
   "pygments_lexer": "ipython3",
   "version": "3.6.8"
  }
 },
 "nbformat": 4,
 "nbformat_minor": 2
}
